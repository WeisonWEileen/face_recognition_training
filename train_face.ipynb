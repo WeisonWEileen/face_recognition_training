{
 "cells": [
  {
   "cell_type": "code",
   "execution_count": 1,
   "metadata": {},
   "outputs": [],
   "source": [
    "import scipy.io\n",
    "mat = scipy.io.loadmat('wiki_crop/wiki.mat')"
   ]
  },
  {
   "cell_type": "code",
   "execution_count": 2,
   "metadata": {},
   "outputs": [
    {
     "ename": "SyntaxError",
     "evalue": "invalid syntax (2762414598.py, line 3)",
     "output_type": "error",
     "traceback": [
      "\u001b[1;36m  Cell \u001b[1;32mIn[2], line 3\u001b[1;36m\u001b[0m\n\u001b[1;33m    columns = [&quot;dob&quot;, &quot;photo_taken&quot;, &quot;full_path&quot;, &quot;gender&quot;, &quot;name&quot;, &quot;face_location&quot;, &quot;face_score&quot;, &quot;second_face_score&quot;]\u001b[0m\n\u001b[1;37m               ^\u001b[0m\n\u001b[1;31mSyntaxError\u001b[0m\u001b[1;31m:\u001b[0m invalid syntax\n"
     ]
    }
   ],
   "source": [
    "instances = mat['wiki'][0][0][0].shape[1]\n",
    " \n",
    "columns = [&quot;dob&quot;, &quot;photo_taken&quot;, &quot;full_path&quot;, &quot;gender&quot;, &quot;name&quot;, &quot;face_location&quot;, &quot;face_score&quot;, &quot;second_face_score&quot;]\n",
    " \n",
    "import pandas as pd\n",
    "df = pd.DataFrame(index = range(0,instances), columns = columns)\n",
    " \n",
    "for i in mat:\n",
    "    if i == &quot;wiki&quot;:\n",
    "        current_array = mat[i][0][0]\n",
    "    for j in range(len(current_array)):\n",
    "        df[columns[j]] = pd.DataFrame(current_array[j][0])"
   ]
  }
 ],
 "metadata": {
  "kernelspec": {
   "display_name": "deepface",
   "language": "python",
   "name": "python3"
  },
  "language_info": {
   "codemirror_mode": {
    "name": "ipython",
    "version": 3
   },
   "file_extension": ".py",
   "mimetype": "text/x-python",
   "name": "python",
   "nbconvert_exporter": "python",
   "pygments_lexer": "ipython3",
   "version": "3.8.19"
  }
 },
 "nbformat": 4,
 "nbformat_minor": 2
}
